{
 "cells": [
  {
   "cell_type": "code",
   "execution_count": 1,
   "id": "6e40b0f1-f15d-4edb-bd06-f100b7783d6d",
   "metadata": {},
   "outputs": [],
   "source": [
    "%matplotlib inline\n",
    "from IPython.display import Image\n",
    "from numpy import pi\n",
    "import numpy as np\n",
    "from qutip import *\n",
    "from qutip_qip.operations import *\n",
    "from qutip_qip.circuit import QubitCircuit, Gate\n",
    "from qutip.qip.circuit import CircuitSimulator"
   ]
  },
  {
   "cell_type": "code",
   "execution_count": 3,
   "id": "2233a85b-f1e0-4d0d-a1e0-05e9456afefd",
   "metadata": {},
   "outputs": [],
   "source": [
    "qc = QubitCircuit(2)\n",
    "qc.add_gate(\"SNOT\", targets=0)\n",
    "qc.add_gate(\"CNOT\", targets=[1], controls=0)\n",
    "qc.add_measurement(\"M0\", targets=[0])\n",
    "qc.add_measurement(\"M1\", targets=[1])"
   ]
  },
  {
   "cell_type": "code",
   "execution_count": 4,
   "id": "16b1b272-8009-4173-9ba1-e260378fa716",
   "metadata": {},
   "outputs": [
    {
     "name": "stdout",
     "output_type": "stream",
     "text": [
      "State:\n",
      "Quantum object: dims = [[2, 2], [1, 1]], shape = (4, 1), type = ket\n",
      "Qobj data =\n",
      "[[1.]\n",
      " [0.]\n",
      " [0.]\n",
      " [0.]]\n",
      "with probability 0.4999999999999999\n",
      "State:\n",
      "Quantum object: dims = [[2, 2], [1, 1]], shape = (4, 1), type = ket\n",
      "Qobj data =\n",
      "[[0.]\n",
      " [0.]\n",
      " [0.]\n",
      " [1.]]\n",
      "with probability 0.4999999999999999\n"
     ]
    }
   ],
   "source": [
    "zero_state = tensor([basis(2, 0), basis(2,0)])\n",
    "\n",
    "result = qc.run_statistics(state=zero_state)\n",
    "states = result.get_final_states()\n",
    "probabilities = result.get_probabilities()\n",
    "\n",
    "for state, probability in zip(states, probabilities):\n",
    "    print(\"State:\\n{}\\nwith probability {}\".format(state, probability))"
   ]
  },
  {
   "cell_type": "code",
   "execution_count": 5,
   "id": "d3142161-172b-43e1-adfd-6f86db2c1916",
   "metadata": {},
   "outputs": [
    {
     "data": {
      "image/png": "[encoded data removed]",
      "text/plain": [
       "<IPython.core.display.Image object>"
      ]
     },
     "execution_count": 5,
     "metadata": {},
     "output_type": "execute_result"
    }
   ],
   "source": [
    "qc.png"
   ]
  },
  {
   "cell_type": "code",
   "execution_count": null,
   "id": "b6479e1e-66c0-4d58-b35e-36efed01f31b",
   "metadata": {},
   "outputs": [],
   "source": []
  }
 ],
 "metadata": {
  "kernelspec": {
   "display_name": "Python 3 (ipykernel)",
   "language": "python",
   "name": "python3"
  },
  "language_info": {
   "codemirror_mode": {
    "name": "ipython",
    "version": 3
   },
   "file_extension": ".py",
   "mimetype": "text/x-python",
   "name": "python",
   "nbconvert_exporter": "python",
   "pygments_lexer": "ipython3",
   "version": "3.8.8"
  }
 },
 "nbformat": 4,
 "nbformat_minor": 5
}
