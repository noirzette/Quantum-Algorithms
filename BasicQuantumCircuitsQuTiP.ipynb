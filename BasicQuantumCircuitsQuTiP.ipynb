{
 "cells": [
  {
   "cell_type": "code",
   "execution_count": 1,
   "id": "b3f5d466-de86-4b13-98ca-4bf940c28ca8",
   "metadata": {},
   "outputs": [],
   "source": [
    "%matplotlib inline\n",
    "from IPython.display import Image\n",
    "from numpy import pi\n",
    "import numpy as np\n",
    "from qutip import *\n",
    "from qutip_qip.operations import *\n",
    "from qutip_qip.circuit import QubitCircuit, Gate\n",
    "from qutip.qip.device import LinearSpinChain"
   ]
  },
  {
   "cell_type": "code",
   "execution_count": 12,
   "id": "5a1eaedc-07f3-4408-82b7-09b062e4e299",
   "metadata": {},
   "outputs": [],
   "source": [
    "theta_batch = [0, np.pi/2];\n",
    "num_qubits = 3"
   ]
  },
  {
   "cell_type": "code",
   "execution_count": 13,
   "id": "d51e9746-9f6c-4b13-908f-2dab6e0b3559",
   "metadata": {},
   "outputs": [
    {
     "data": {
      "image/png": "[encoded data removed]",
      "text/plain": [
       "<IPython.core.display.Image object>"
      ]
     },
     "execution_count": 13,
     "metadata": {},
     "output_type": "execute_result"
    }
   ],
   "source": [
    "# create a sample circuit\n",
    "qc = QubitCircuit(N=num_qubits)\n",
    "for i in range(num_qubits):\n",
    "    qc.add_gate(\"SNOT\", targets=i)\n",
    "for i in range(num_qubits):\n",
    "    qc.add_gate(\"RY\", targets=i, arg_value=theta_batch[0], arg_label=theta_batch[0])\n",
    "for i in range(num_qubits):\n",
    "    qc.add_measurement(\"M{}\".format(i), targets=i)\n",
    "qc.png"
   ]
  },
  {
   "cell_type": "code",
   "execution_count": 10,
   "id": "df325a0a-ab09-422e-8ebf-39f6ba5f0522",
   "metadata": {},
   "outputs": [
    {
     "name": "stdout",
     "output_type": "stream",
     "text": [
      "State:\n",
      "Quantum object: dims = [[2, 2], [1, 1]], shape = (4, 1), type = ket\n",
      "Qobj data =\n",
      "[[1.]\n",
      " [0.]\n",
      " [0.]\n",
      " [0.]]\n",
      "with probability 0.24999999999999994\n",
      "State:\n",
      "Quantum object: dims = [[2, 2], [1, 1]], shape = (4, 1), type = ket\n",
      "Qobj data =\n",
      "[[0.]\n",
      " [1.]\n",
      " [0.]\n",
      " [0.]]\n",
      "with probability 0.24999999999999994\n",
      "State:\n",
      "Quantum object: dims = [[2, 2], [1, 1]], shape = (4, 1), type = ket\n",
      "Qobj data =\n",
      "[[0.]\n",
      " [0.]\n",
      " [1.]\n",
      " [0.]]\n",
      "with probability 0.24999999999999994\n",
      "State:\n",
      "Quantum object: dims = [[2, 2], [1, 1]], shape = (4, 1), type = ket\n",
      "Qobj data =\n",
      "[[0.]\n",
      " [0.]\n",
      " [0.]\n",
      " [1.]]\n",
      "with probability 0.24999999999999994\n"
     ]
    }
   ],
   "source": [
    "result = qc.run_statistics(state=tensor(basis(2, 0), basis(2, 0)))\n",
    "states = result.get_final_states()\n",
    "probabilities = result.get_probabilities()\n",
    "\n",
    "for state, probability in zip(states, probabilities):\n",
    "    print(\"State:\\n{}\\nwith probability {}\".format(state, probability))"
   ]
  },
  {
   "cell_type": "code",
   "execution_count": null,
   "id": "0b93809a-ef46-4fa7-8acf-dd44d7f0b036",
   "metadata": {},
   "outputs": [],
   "source": []
  }
 ],
 "metadata": {
  "kernelspec": {
   "display_name": "Python 3 (ipykernel)",
   "language": "python",
   "name": "python3"
  },
  "language_info": {
   "codemirror_mode": {
    "name": "ipython",
    "version": 3
   },
   "file_extension": ".py",
   "mimetype": "text/x-python",
   "name": "python",
   "nbconvert_exporter": "python",
   "pygments_lexer": "ipython3",
   "version": "3.8.8"
  }
 },
 "nbformat": 4,
 "nbformat_minor": 5
}
