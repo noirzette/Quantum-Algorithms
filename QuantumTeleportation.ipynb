{
 "cells": [
  {
   "cell_type": "code",
   "execution_count": 1,
   "id": "9c65952f-206c-40f2-b405-e2d50bc0d909",
   "metadata": {},
   "outputs": [],
   "source": [
    "%matplotlib inline\n",
    "from IPython.display import Image\n",
    "from numpy import pi\n",
    "import numpy as np\n",
    "from qutip import *\n",
    "from qutip_qip.operations import *\n",
    "from qutip_qip.circuit import QubitCircuit, Gate\n",
    "from qutip.qip.circuit import CircuitSimulator"
   ]
  },
  {
   "cell_type": "code",
   "execution_count": 2,
   "id": "afd4aeec-1498-4ba0-838f-1830ce901f6a",
   "metadata": {},
   "outputs": [],
   "source": [
    "qc = QubitCircuit(3,num_cbits=3)\n",
    "#Q0 is qubit to send\n",
    "#Q1 is Alice's control cubit\n",
    "#Q2 is Bob's control cubit"
   ]
  },
  {
   "cell_type": "code",
   "execution_count": 3,
   "id": "f3b96e01-ec30-4117-ac8b-4baa448ff709",
   "metadata": {},
   "outputs": [],
   "source": [
    "# Set Q0 using a Hadamard\n",
    "qc.add_gate(\"SNOT\", targets=0)"
   ]
  },
  {
   "cell_type": "code",
   "execution_count": 4,
   "id": "bc30e833-3da4-4fe3-8a64-706825605153",
   "metadata": {},
   "outputs": [],
   "source": [
    "# Create Bell state between Q1 and Q2\n",
    "qc.add_gate(\"SNOT\", targets=1)\n",
    "qc.add_gate(\"CNOT\", targets=[2], controls=1)"
   ]
  },
  {
   "cell_type": "code",
   "execution_count": 5,
   "id": "06b878a1-9a7b-48c2-8eee-b7d822ea3869",
   "metadata": {},
   "outputs": [],
   "source": [
    "# Apply CNOT to Alice's qubits: Q0 is control, Q1 is target\n",
    "qc.add_gate(\"CNOT\", targets=[1], controls=0)"
   ]
  },
  {
   "cell_type": "code",
   "execution_count": 6,
   "id": "2cb50710-a251-4db1-bcf4-6b738a2c857b",
   "metadata": {},
   "outputs": [],
   "source": [
    "# Apply Hadamard on Q0, then measure Q0 and Q1\n",
    "qc.add_gate(\"SNOT\", targets=0)\n",
    "qc.add_measurement(\"M0\", targets=[0],classical_store=0)\n",
    "qc.add_measurement(\"M1\", targets=[1],classical_store=1)"
   ]
  },
  {
   "cell_type": "code",
   "execution_count": 7,
   "id": "5846fa8a-ef0d-4810-8206-bd4052221185",
   "metadata": {},
   "outputs": [],
   "source": [
    "# Apply CNOT on Bob's Q2 with measured Q1 as control\n",
    "qc.add_gate(\"X\", targets=[2], classical_controls=1)"
   ]
  },
  {
   "cell_type": "code",
   "execution_count": 8,
   "id": "d8163329-8b5d-4f9d-ac02-489bfa783eb9",
   "metadata": {},
   "outputs": [],
   "source": [
    "# Apply conditioned Z on Bob's qubit Q2 using Q0 after measurement\n",
    "qc.add_gate(\"Z\", targets=2, classical_controls= 0)"
   ]
  },
  {
   "cell_type": "code",
   "execution_count": 9,
   "id": "ac13f617-d2e7-4a92-aae6-5b71d37c0784",
   "metadata": {},
   "outputs": [],
   "source": [
    "# Measure Bob's Q2\n",
    "#qc.add_measurement(\"M1\", targets=[2])"
   ]
  },
  {
   "cell_type": "code",
   "execution_count": 10,
   "id": "d2a500da-193b-40ee-993c-687ac62fcf08",
   "metadata": {},
   "outputs": [
    {
     "data": {
      "image/png": "[encoded data removed]",
      "text/plain": [
       "<IPython.core.display.Image object>"
      ]
     },
     "execution_count": 10,
     "metadata": {},
     "output_type": "execute_result"
    }
   ],
   "source": [
    "qc.png"
   ]
  },
  {
   "cell_type": "code",
   "execution_count": 11,
   "id": "a63c76fe-61ac-4182-aa5f-715e873b65d2",
   "metadata": {},
   "outputs": [
    {
     "name": "stdout",
     "output_type": "stream",
     "text": [
      "Quantum object: dims = [[2, 2, 2], [1, 1, 1]], shape = (8, 1), type = ket\n",
      "Qobj data =\n",
      "[[0.        ]\n",
      " [0.        ]\n",
      " [0.        ]\n",
      " [0.        ]\n",
      " [0.        ]\n",
      " [0.        ]\n",
      " [0.70710678]\n",
      " [0.70710678]]\n"
     ]
    }
   ],
   "source": [
    "zero_state = tensor([basis(2, 0), basis(2,0), basis(2,0)])\n",
    "\n",
    "result = qc.run(state=zero_state)\n",
    "print(result)"
   ]
  },
  {
   "cell_type": "code",
   "execution_count": 13,
   "id": "aea29b0d-e7c8-46fc-8d0b-2d43ba7707ef",
   "metadata": {},
   "outputs": [
    {
     "data": {
      "text/latex": [
       "Quantum object: dims = [[2], [2]], shape = (2, 2), type = oper, isherm = True\\begin{equation*}\\left(\\begin{array}{*{11}c}0.500 & 0.500\\\\0.500 & 0.500\\\\\\end{array}\\right)\\end{equation*}"
      ],
      "text/plain": [
       "Quantum object: dims = [[2], [2]], shape = (2, 2), type = oper, isherm = True\n",
       "Qobj data =\n",
       "[[0.5 0.5]\n",
       " [0.5 0.5]]"
      ]
     },
     "execution_count": 13,
     "metadata": {},
     "output_type": "execute_result"
    }
   ],
   "source": [
    "result.ptrace(2)"
   ]
  },
  {
   "cell_type": "code",
   "execution_count": 14,
   "id": "208b9e66-b75b-4324-a837-2858c6a079fa",
   "metadata": {},
   "outputs": [
    {
     "data": {
      "text/latex": [
       "Quantum object: dims = [[2], [2]], shape = (2, 2), type = oper, isherm = True\\begin{equation*}\\left(\\begin{array}{*{11}c}0.500 & 0.500\\\\0.500 & 0.500\\\\\\end{array}\\right)\\end{equation*}"
      ],
      "text/plain": [
       "Quantum object: dims = [[2], [2]], shape = (2, 2), type = oper, isherm = True\n",
       "Qobj data =\n",
       "[[0.5 0.5]\n",
       " [0.5 0.5]]"
      ]
     },
     "execution_count": 14,
     "metadata": {},
     "output_type": "execute_result"
    }
   ],
   "source": [
    "(qutip.basis(2, 0) + qutip.basis(2, 1)).unit().proj()"
   ]
  },
  {
   "cell_type": "code",
   "execution_count": null,
   "id": "a004ed11-a0a6-4b5c-a86c-ad7e8b05d5ad",
   "metadata": {},
   "outputs": [],
   "source": []
  }
 ],
 "metadata": {
  "kernelspec": {
   "display_name": "Python 3 (ipykernel)",
   "language": "python",
   "name": "python3"
  },
  "language_info": {
   "codemirror_mode": {
    "name": "ipython",
    "version": 3
   },
   "file_extension": ".py",
   "mimetype": "text/x-python",
   "name": "python",
   "nbconvert_exporter": "python",
   "pygments_lexer": "ipython3",
   "version": "3.8.8"
  }
 },
 "nbformat": 4,
 "nbformat_minor": 5
}
